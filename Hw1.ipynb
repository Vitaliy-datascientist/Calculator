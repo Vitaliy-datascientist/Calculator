{
  "nbformat": 4,
  "nbformat_minor": 0,
  "metadata": {
    "colab": {
      "provenance": [],
      "authorship_tag": "ABX9TyPrkOW/Xj/MLtOW3q5GlRsU"
    },
    "kernelspec": {
      "name": "python3",
      "display_name": "Python 3"
    },
    "language_info": {
      "name": "python"
    }
  },
  "cells": [
    {
      "cell_type": "code",
      "execution_count": 2,
      "metadata": {
        "id": "eyYgAIM_0yNl"
      },
      "outputs": [],
      "source": [
        "import numpy as np"
      ]
    },
    {
      "cell_type": "markdown",
      "source": [
        "1."
      ],
      "metadata": {
        "id": "6Y0_-M1M4EcV"
      }
    },
    {
      "cell_type": "code",
      "source": [
        "a = np.arange(1,11)\n",
        "print(a)"
      ],
      "metadata": {
        "colab": {
          "base_uri": "https://localhost:8080/"
        },
        "id": "A3TMgwaQ09GQ",
        "outputId": "c04c399e-c94e-48bd-e66d-fb043ba71833"
      },
      "execution_count": 4,
      "outputs": [
        {
          "output_type": "stream",
          "name": "stdout",
          "text": [
            "[ 1  2  3  4  5  6  7  8  9 10]\n"
          ]
        }
      ]
    },
    {
      "cell_type": "markdown",
      "source": [
        "2."
      ],
      "metadata": {
        "id": "NAhIrhxV4Ip6"
      }
    },
    {
      "cell_type": "code",
      "source": [
        "m = np.zeros((3,3))\n",
        "print(m)"
      ],
      "metadata": {
        "colab": {
          "base_uri": "https://localhost:8080/"
        },
        "id": "upoLl2fo1RL_",
        "outputId": "c479fc14-e0eb-4446-9a71-3c47be50e319"
      },
      "execution_count": 28,
      "outputs": [
        {
          "output_type": "stream",
          "name": "stdout",
          "text": [
            "[[0. 0. 0.]\n",
            " [0. 0. 0.]\n",
            " [0. 0. 0.]]\n"
          ]
        }
      ]
    },
    {
      "cell_type": "markdown",
      "source": [
        "3."
      ],
      "metadata": {
        "id": "fBouedXH4Y7k"
      }
    },
    {
      "cell_type": "code",
      "source": [
        "m = np.random.randint(1,10,(5,5))\n",
        "print(m)"
      ],
      "metadata": {
        "colab": {
          "base_uri": "https://localhost:8080/"
        },
        "id": "YvH2mqFU15Cb",
        "outputId": "6f060348-c253-4cad-c316-edd192b676c2"
      },
      "execution_count": 6,
      "outputs": [
        {
          "output_type": "stream",
          "name": "stdout",
          "text": [
            "[[3 3 7 4 3]\n",
            " [5 9 8 6 2]\n",
            " [3 3 2 7 1]\n",
            " [5 6 4 5 9]\n",
            " [5 1 9 3 7]]\n"
          ]
        }
      ]
    },
    {
      "cell_type": "markdown",
      "source": [
        "4."
      ],
      "metadata": {
        "id": "JHyQ9R5-4uUS"
      }
    },
    {
      "cell_type": "code",
      "source": [
        "m = np.random.random((4,4))\n",
        "print(m)"
      ],
      "metadata": {
        "colab": {
          "base_uri": "https://localhost:8080/"
        },
        "id": "_Cj6TNGY2Lyl",
        "outputId": "53035f2d-66fb-4110-ff0b-40f2288e6564"
      },
      "execution_count": 8,
      "outputs": [
        {
          "output_type": "stream",
          "name": "stdout",
          "text": [
            "[[0.03510073 0.2585926  0.08998983 0.16860556]\n",
            " [0.518321   0.16497047 0.99914482 0.48850439]\n",
            " [0.82952356 0.05177609 0.23674582 0.67527721]\n",
            " [0.35508886 0.0204347  0.69179039 0.7773458 ]]\n"
          ]
        }
      ]
    },
    {
      "cell_type": "markdown",
      "source": [
        "5."
      ],
      "metadata": {
        "id": "jkWwldjK5OVv"
      }
    },
    {
      "cell_type": "code",
      "source": [
        "a = np.random.randint(1,10,5)\n",
        "b = np.random.randint(1,10,5)\n",
        "print(a + b)\n",
        "print(a - b)\n",
        "print(a * b)"
      ],
      "metadata": {
        "colab": {
          "base_uri": "https://localhost:8080/"
        },
        "id": "l21tM1iv2ahu",
        "outputId": "3ff72ede-2347-4275-a93a-64997259e2a5"
      },
      "execution_count": 27,
      "outputs": [
        {
          "output_type": "stream",
          "name": "stdout",
          "text": [
            "[ 9 11 15 12 10]\n",
            "[-7 -3 -3  2  0]\n",
            "[ 8 28 54 35 25]\n"
          ]
        }
      ]
    },
    {
      "cell_type": "markdown",
      "source": [
        "6."
      ],
      "metadata": {
        "id": "HsgkcMsE5eih"
      }
    },
    {
      "cell_type": "code",
      "source": [
        "a = np.random.random(7)\n",
        "b = np.random.random(7)\n",
        "print(np.dot(a,b))"
      ],
      "metadata": {
        "colab": {
          "base_uri": "https://localhost:8080/"
        },
        "id": "LgrVeWRc3ShV",
        "outputId": "0785203d-8a40-479e-ff16-09e985d96e2b"
      },
      "execution_count": 31,
      "outputs": [
        {
          "output_type": "stream",
          "name": "stdout",
          "text": [
            "1.2585986338543487\n"
          ]
        }
      ]
    },
    {
      "cell_type": "markdown",
      "source": [
        "7."
      ],
      "metadata": {
        "id": "l6pAM_aM5shi"
      }
    },
    {
      "cell_type": "code",
      "source": [
        "a = np.random.randint(1,10,(2,2))\n",
        "b = np.random.randint(1,10,(2,3))\n",
        "print(np.dot(a,b))"
      ],
      "metadata": {
        "colab": {
          "base_uri": "https://localhost:8080/"
        },
        "id": "5FWGYpn955qq",
        "outputId": "94857e46-a585-4592-fd60-75183ae8d9de"
      },
      "execution_count": 32,
      "outputs": [
        {
          "output_type": "stream",
          "name": "stdout",
          "text": [
            "[[ 48  18  72]\n",
            " [ 56  32 106]]\n"
          ]
        }
      ]
    },
    {
      "cell_type": "markdown",
      "source": [
        "8."
      ],
      "metadata": {
        "id": "5UMrKKD-6RUl"
      }
    },
    {
      "cell_type": "code",
      "source": [
        "a = np.random.randint(1,10,(3,3))\n",
        "print(np.linalg.inv(a))"
      ],
      "metadata": {
        "colab": {
          "base_uri": "https://localhost:8080/"
        },
        "id": "AuM6qtUK6d6a",
        "outputId": "1204734a-f2af-4e84-db7f-657a60593e6f"
      },
      "execution_count": 36,
      "outputs": [
        {
          "output_type": "stream",
          "name": "stdout",
          "text": [
            "[[-0.13043478  0.29813665 -0.17391304]\n",
            " [-0.08695652 -0.08695652  0.2173913 ]\n",
            " [ 0.2173913  -0.06832298 -0.04347826]]\n"
          ]
        }
      ]
    },
    {
      "cell_type": "markdown",
      "source": [
        "9."
      ],
      "metadata": {
        "id": "SLPOeXu-6zND"
      }
    },
    {
      "cell_type": "code",
      "source": [
        "m = np.random.random((4,4))\n",
        "print(m.T)"
      ],
      "metadata": {
        "colab": {
          "base_uri": "https://localhost:8080/"
        },
        "id": "9_4IANqW61k2",
        "outputId": "bd470693-2e63-4371-d277-c8cfaf814a6a"
      },
      "execution_count": 37,
      "outputs": [
        {
          "output_type": "stream",
          "name": "stdout",
          "text": [
            "[[0.74572567 0.96508804 0.81374369 0.65539663]\n",
            " [0.11302973 0.61712211 0.51404175 0.26609712]\n",
            " [0.91551258 0.96899677 0.33077201 0.81345502]\n",
            " [0.12634463 0.54542999 0.69436537 0.71517476]]\n"
          ]
        }
      ]
    },
    {
      "cell_type": "markdown",
      "source": [
        "10."
      ],
      "metadata": {
        "id": "OcUogMUU7Fed"
      }
    },
    {
      "cell_type": "code",
      "source": [
        "m = np.random.randint(1,10,(3,4))\n",
        "v = np.random.randint(1,10,4)\n",
        "print(m * v)"
      ],
      "metadata": {
        "colab": {
          "base_uri": "https://localhost:8080/"
        },
        "id": "wAouIu2T7NQa",
        "outputId": "82152501-be6f-4c70-d354-bb1e0348dc1a"
      },
      "execution_count": 42,
      "outputs": [
        {
          "output_type": "stream",
          "name": "stdout",
          "text": [
            "[[35  9 63 45]\n",
            " [56 72 27  9]\n",
            " [49  9 36 27]]\n"
          ]
        }
      ]
    },
    {
      "cell_type": "markdown",
      "source": [
        "11."
      ],
      "metadata": {
        "id": "YFbiNHPH7klW"
      }
    },
    {
      "cell_type": "code",
      "source": [
        "m = np.random.random((2,3))\n",
        "v = np.random.random(3)\n",
        "print(m * v)"
      ],
      "metadata": {
        "colab": {
          "base_uri": "https://localhost:8080/"
        },
        "id": "0Hv8QIrH70hg",
        "outputId": "eab938eb-2c84-4a75-e21f-6f189fddd107"
      },
      "execution_count": 43,
      "outputs": [
        {
          "output_type": "stream",
          "name": "stdout",
          "text": [
            "[[0.43965935 0.22055356 0.54466873]\n",
            " [0.15840089 0.31080757 0.53038529]]\n"
          ]
        }
      ]
    },
    {
      "cell_type": "markdown",
      "source": [
        "12."
      ],
      "metadata": {
        "id": "o20sBusP8kKW"
      }
    },
    {
      "cell_type": "code",
      "source": [
        "a = np.random.randint(1,10,(2,2))\n",
        "b = np.random.randint(1,10,(2,2))\n",
        "print(a * b)"
      ],
      "metadata": {
        "colab": {
          "base_uri": "https://localhost:8080/"
        },
        "id": "dBs8AZae8oUs",
        "outputId": "f20c67d1-beb1-4152-f785-acea73353917"
      },
      "execution_count": 45,
      "outputs": [
        {
          "output_type": "stream",
          "name": "stdout",
          "text": [
            "[[10 18]\n",
            " [ 4 14]]\n"
          ]
        }
      ]
    },
    {
      "cell_type": "markdown",
      "source": [
        "13."
      ],
      "metadata": {
        "id": "Fj2o6kkT83u7"
      }
    },
    {
      "cell_type": "code",
      "source": [
        "a = np.random.randint(1,10,(2,2))\n",
        "b = np.random.randint(1,10,(2,2))\n",
        "print(np.dot(a,b))"
      ],
      "metadata": {
        "colab": {
          "base_uri": "https://localhost:8080/"
        },
        "id": "Ke4A6qeS9BEL",
        "outputId": "5ca9d8aa-4dbf-4df5-adfe-98d2c0a3f5b2"
      },
      "execution_count": 46,
      "outputs": [
        {
          "output_type": "stream",
          "name": "stdout",
          "text": [
            "[[42 13]\n",
            " [24  6]]\n"
          ]
        }
      ]
    },
    {
      "cell_type": "markdown",
      "source": [
        "14."
      ],
      "metadata": {
        "id": "ISg6HTPw9WQS"
      }
    },
    {
      "cell_type": "code",
      "source": [
        "m = np.random.randint(1,100,(5,5))\n",
        "print(m.sum())"
      ],
      "metadata": {
        "colab": {
          "base_uri": "https://localhost:8080/"
        },
        "id": "UwVT7Dvs9YB5",
        "outputId": "8cbc3bd4-d68d-4b0f-ecae-79059043147e"
      },
      "execution_count": 47,
      "outputs": [
        {
          "output_type": "stream",
          "name": "stdout",
          "text": [
            "1111\n"
          ]
        }
      ]
    },
    {
      "cell_type": "markdown",
      "source": [
        "15."
      ],
      "metadata": {
        "id": "7XZR3HQv9lO9"
      }
    },
    {
      "cell_type": "code",
      "source": [
        "a = np.random.randint(1,10,(4,4))\n",
        "b = np.random.randint(1,10,(4,4))\n",
        "print(a - b)"
      ],
      "metadata": {
        "colab": {
          "base_uri": "https://localhost:8080/"
        },
        "id": "F4viGMFk92nv",
        "outputId": "af5e8804-d47b-428d-850a-705ae0dbfb3f"
      },
      "execution_count": 48,
      "outputs": [
        {
          "output_type": "stream",
          "name": "stdout",
          "text": [
            "[[ 3 -6  2  6]\n",
            " [ 7 -1 -4 -1]\n",
            " [ 1 -1 -4  3]\n",
            " [-4  0 -6  2]]\n"
          ]
        }
      ]
    },
    {
      "cell_type": "markdown",
      "source": [
        "16."
      ],
      "metadata": {
        "id": "o4_dznLs-C94"
      }
    },
    {
      "cell_type": "code",
      "source": [
        "m = np.random.random((3,3))\n",
        "print(m.sum(axis=1))"
      ],
      "metadata": {
        "colab": {
          "base_uri": "https://localhost:8080/"
        },
        "id": "bTurpiBf-POJ",
        "outputId": "f9387f9d-036c-4cb7-83d2-2897b020b331"
      },
      "execution_count": 55,
      "outputs": [
        {
          "output_type": "stream",
          "name": "stdout",
          "text": [
            "[1.18759607 1.41007499 0.5590299 ]\n"
          ]
        }
      ]
    },
    {
      "cell_type": "markdown",
      "source": [
        "17."
      ],
      "metadata": {
        "id": "fVvkUbKp-pUg"
      }
    },
    {
      "cell_type": "code",
      "source": [
        "a = np.random.randint(0,100,(3,4))\n",
        "b = np.square(a)\n",
        "print(b)"
      ],
      "metadata": {
        "colab": {
          "base_uri": "https://localhost:8080/"
        },
        "id": "eGf_7fJ-_XJJ",
        "outputId": "bd253792-c74e-410c-d2f0-102d1a430df8"
      },
      "execution_count": 56,
      "outputs": [
        {
          "output_type": "stream",
          "name": "stdout",
          "text": [
            "[[6241 3364 7921 1444]\n",
            " [3844 2500   49  196]\n",
            " [5476 2704 5476 8649]]\n"
          ]
        }
      ]
    },
    {
      "cell_type": "markdown",
      "source": [
        "18."
      ],
      "metadata": {
        "id": "cwsJHGQs_0OV"
      }
    },
    {
      "cell_type": "code",
      "source": [
        "a = np.random.randint(1,50,4)\n",
        "b = np.sqrt(a)\n",
        "print(b)"
      ],
      "metadata": {
        "colab": {
          "base_uri": "https://localhost:8080/"
        },
        "id": "EKRdoZ9P_6ay",
        "outputId": "11d1eb90-d7c4-4262-be35-7d28ce49349c"
      },
      "execution_count": 57,
      "outputs": [
        {
          "output_type": "stream",
          "name": "stdout",
          "text": [
            "[5.56776436 3.74165739 6.70820393 5.91607978]\n"
          ]
        }
      ]
    }
  ]
}